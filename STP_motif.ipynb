{
 "cells": [
  {
   "cell_type": "code",
   "execution_count": 28,
   "metadata": {},
   "outputs": [],
   "source": [
    "import pandas as pd\n",
    "import calibration as cal\n",
    "import motif_tool\n",
    "import numpy as np"
   ]
  },
  {
   "cell_type": "markdown",
   "metadata": {},
   "source": [
    "# Load data"
   ]
  },
  {
   "cell_type": "code",
   "execution_count": 6,
   "metadata": {},
   "outputs": [],
   "source": [
    "df = pd.read_csv('datasets/processed_lcc_Congress.csv')\n",
    "edges_dict = {(e[0], e[1]): e[2] for e in df.values.tolist()} # {(node1, node2): sign}"
   ]
  },
  {
   "cell_type": "markdown",
   "metadata": {},
   "source": [
    "# STP randomization"
   ]
  },
  {
   "cell_type": "code",
   "execution_count": 11,
   "metadata": {},
   "outputs": [],
   "source": [
    "probs = motif_tool.Randomization.subnetwork_get_probs(edges_dict, subnetwork='neg', max_iters=10000, stop_criterion=0.001) # For large networks, this may take tens of minutes\n",
    "edges_dict_rand = motif_tool.Randomization.rand_subnetwork(edges_dict, probs, subnetwork='neg')"
   ]
  },
  {
   "cell_type": "markdown",
   "metadata": {},
   "source": [
    "# Find graphlet"
   ]
  },
  {
   "cell_type": "code",
   "execution_count": 38,
   "metadata": {},
   "outputs": [
    {
     "name": "stdout",
     "output_type": "stream",
     "text": [
      "triangles:  {0: 7, 1: 42, 2: 60, 3: 98}\n",
      "squares:  {0: 7, 1: 18, 21: 67, 22: 12, 3: 112, 4: 117}\n"
     ]
    }
   ],
   "source": [
    "# triangles\n",
    "res = motif_tool.Motif.count_motifs(edges_dict_rand, mode='triangle', exclude_self_loops=True, graphletMode=True)\n",
    "print('triangles: ', res) # 0: ---, 1: +--, 2: ++-, 3: +++\n",
    "# squares\n",
    "res = motif_tool.Motif.count_motifs(edges_dict_rand, mode='square', exclude_self_loops=True, graphletMode=True)\n",
    "print('squares: ', res) # 0: ----, 1: +---, 21: ++--, 22: +-+-, 3: +++-, 4: ++++"
   ]
  },
  {
   "cell_type": "code",
   "execution_count": 41,
   "metadata": {},
   "outputs": [
    {
     "data": {
      "text/html": [
       "<div>\n",
       "<style scoped>\n",
       "    .dataframe tbody tr th:only-of-type {\n",
       "        vertical-align: middle;\n",
       "    }\n",
       "\n",
       "    .dataframe tbody tr th {\n",
       "        vertical-align: top;\n",
       "    }\n",
       "\n",
       "    .dataframe thead th {\n",
       "        text-align: right;\n",
       "    }\n",
       "</style>\n",
       "<table border=\"1\" class=\"dataframe\">\n",
       "  <thead>\n",
       "    <tr style=\"text-align: right;\">\n",
       "      <th></th>\n",
       "      <th>----+</th>\n",
       "      <th>-----</th>\n",
       "      <th>-+--+</th>\n",
       "      <th>-+---</th>\n",
       "      <th>++--+</th>\n",
       "      <th>++---</th>\n",
       "      <th>-++-+</th>\n",
       "      <th>-++--</th>\n",
       "      <th>+-+-+</th>\n",
       "      <th>+-+--</th>\n",
       "      <th>+-+++</th>\n",
       "      <th>+-++-</th>\n",
       "      <th>+++++</th>\n",
       "      <th>++++-</th>\n",
       "    </tr>\n",
       "  </thead>\n",
       "  <tbody>\n",
       "    <tr>\n",
       "      <th>0</th>\n",
       "      <td>2</td>\n",
       "      <td>1</td>\n",
       "      <td>13</td>\n",
       "      <td>17</td>\n",
       "      <td>39</td>\n",
       "      <td>6</td>\n",
       "      <td>14</td>\n",
       "      <td>30</td>\n",
       "      <td>4</td>\n",
       "      <td>9</td>\n",
       "      <td>60</td>\n",
       "      <td>55</td>\n",
       "      <td>118</td>\n",
       "      <td>41</td>\n",
       "    </tr>\n",
       "  </tbody>\n",
       "</table>\n",
       "</div>"
      ],
      "text/plain": [
       "   ----+  -----  -+--+  -+---  ++--+  ++---  -++-+  -++--  +-+-+  +-+--  \\\n",
       "0      2      1     13     17     39      6     14     30      4      9   \n",
       "\n",
       "   +-+++  +-++-  +++++  ++++-  \n",
       "0     60     55    118     41  "
      ]
     },
     "execution_count": 41,
     "metadata": {},
     "output_type": "execute_result"
    }
   ],
   "source": [
    "# squareZs\n",
    "res = motif_tool.Motif.count_motifs(edges_dict_rand, mode='squareZ', exclude_self_loops=True, graphletMode=True)\n",
    "df = pd.DataFrame(np.array([list(res.values())]), columns=res.keys())\n",
    "df = motif_tool.Helper.df_keep_unique_squareZ(df)\n",
    "df"
   ]
  },
  {
   "cell_type": "code",
   "execution_count": 42,
   "metadata": {},
   "outputs": [
    {
     "data": {
      "text/html": [
       "<div>\n",
       "<style scoped>\n",
       "    .dataframe tbody tr th:only-of-type {\n",
       "        vertical-align: middle;\n",
       "    }\n",
       "\n",
       "    .dataframe tbody tr th {\n",
       "        vertical-align: top;\n",
       "    }\n",
       "\n",
       "    .dataframe thead th {\n",
       "        text-align: right;\n",
       "    }\n",
       "</style>\n",
       "<table border=\"1\" class=\"dataframe\">\n",
       "  <thead>\n",
       "    <tr style=\"text-align: right;\">\n",
       "      <th></th>\n",
       "      <th>------</th>\n",
       "      <th>--+---</th>\n",
       "      <th>--+--+</th>\n",
       "      <th>-+-+--</th>\n",
       "      <th>--+-++</th>\n",
       "      <th>++---+</th>\n",
       "      <th>-++--+</th>\n",
       "      <th>+++-+-</th>\n",
       "      <th>+-+-++</th>\n",
       "      <th>+-++++</th>\n",
       "      <th>++++++</th>\n",
       "    </tr>\n",
       "  </thead>\n",
       "  <tbody>\n",
       "    <tr>\n",
       "      <th>0</th>\n",
       "      <td>0</td>\n",
       "      <td>3</td>\n",
       "      <td>6</td>\n",
       "      <td>0</td>\n",
       "      <td>3</td>\n",
       "      <td>3</td>\n",
       "      <td>6</td>\n",
       "      <td>15</td>\n",
       "      <td>3</td>\n",
       "      <td>18</td>\n",
       "      <td>9</td>\n",
       "    </tr>\n",
       "  </tbody>\n",
       "</table>\n",
       "</div>"
      ],
      "text/plain": [
       "   ------  --+---  --+--+  -+-+--  --+-++  ++---+  -++--+  +++-+-  +-+-++  \\\n",
       "0       0       3       6       0       3       3       6      15       3   \n",
       "\n",
       "   +-++++  ++++++  \n",
       "0      18       9  "
      ]
     },
     "execution_count": 42,
     "metadata": {},
     "output_type": "execute_result"
    }
   ],
   "source": [
    "# squareXs\n",
    "res = motif_tool.Motif.count_motifs(edges_dict_rand, mode='squareX', exclude_self_loops=True, graphletMode=True)\n",
    "df = pd.DataFrame(np.array([list(res.values())]), columns=res.keys())\n",
    "df = motif_tool.Helper.df_keep_unique_squareX(df)\n",
    "df"
   ]
  }
 ],
 "metadata": {
  "kernelspec": {
   "display_name": "py311",
   "language": "python",
   "name": "python3"
  },
  "language_info": {
   "codemirror_mode": {
    "name": "ipython",
    "version": 3
   },
   "file_extension": ".py",
   "mimetype": "text/x-python",
   "name": "python",
   "nbconvert_exporter": "python",
   "pygments_lexer": "ipython3",
   "version": "3.11.0"
  },
  "orig_nbformat": 4
 },
 "nbformat": 4,
 "nbformat_minor": 2
}
